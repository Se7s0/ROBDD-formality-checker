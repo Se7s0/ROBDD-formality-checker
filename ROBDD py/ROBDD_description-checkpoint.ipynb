{
 "cells": [
  {
   "cell_type": "markdown",
   "id": "e95c4fc9",
   "metadata": {},
   "source": [
    "## ROBDD Used Functions\n",
    "\n",
    "- Here we start by impporting the libraries we're going to use like\n",
    "- `graphviz` which is used for drawing the ROBDD\n",
    "- `numpy` which helped in dealing with arrays as we're used to MATLAB syntax\n",
    "- `random`   which helps us create different images when calling the same class so they have different names"
   ]
  },
  {
   "cell_type": "code",
   "execution_count": 1,
   "id": "ec95c478",
   "metadata": {},
   "outputs": [],
   "source": [
    "import numpy as np\n",
    "import graphviz\n",
    "import random\n",
    "\n",
    "class Node:\n",
    "    def __init__(self, value):\n",
    "        self.value = value\n",
    "        self.lc = None\n",
    "        self.rc = None\n"
   ]
  },
  {
   "cell_type": "markdown",
   "id": "fe4e35e8",
   "metadata": {},
   "source": [
    "We here created class ROBDD which is called upon whenever a new boolean function is entered\n",
    "\n",
    "First item in the class\n",
    "### `__init__`\n",
    "It takes one input which is the boolean equation and creates the needed parameters to complete computations like \n",
    "- `Var` which contains the variables extracted from the equation\n",
    "- `nNodes` which contains the number of nodes\n",
    "- `nVars` which counts the number of variables\n",
    "- While loop which arranges the variables\n",
    "- Rest of the functions which will be called during the initialization of the ROBDD"
   ]
  },
  {
   "cell_type": "code",
   "execution_count": 20,
   "id": "c9517c8a",
   "metadata": {},
   "outputs": [],
   "source": [
    "class ROBDD:\n",
    "    # Init the ROBDD with nVars = number of variables in the expression\n",
    "    def __init__(self, eq):\n",
    "        self.Var = []\n",
    "        self.eq = eq\n",
    "        self.Vardict = {}\n",
    "        self.nNodes = 0\n",
    "        self.x = []\n",
    "        self.nVars = 0\n",
    "        self.parser(self.eq, self.Var, 0)\n",
    "        \n",
    "        self.i=0\n",
    "        while self.i<len(self.Var)-1:\n",
    "            self.arrange(self)\n",
    "            self.i += 1\n",
    "        self.i = 0\n",
    "        \n",
    "        for item in range(self.nVars):\n",
    "            self.x.append(0)\n",
    "                \n",
    "        self.initT(self)\n",
    "        self.initH(self)\n",
    "        self.build(0)\n",
    "        \n",
    "        self.u = np.zeros((len(self.T),1), dtype = int)\n",
    "        self.rename(self)\n",
    "        \n",
    "        self.newu=[]\n",
    "        self.parser(self.u, self.newu, 1)\n",
    "        self.newu=['0']+['1']+self.newu\n",
    "        self.noding(2, 0)\n",
    "\n",
    "        self.visited=set()\n",
    "        self.graph = graphviz.Digraph()\n",
    "        self.create_graph(self.newu[(len(self.newu)-1)], self.graph,self.visited)\n",
    "        self.graph.render('robdd'+str(random.randint(0,1000))+'', format='png', view=True)\n",
    "        \n",
    "        self.satisfiability()"
   ]
  },
  {
   "cell_type": "markdown",
   "id": "cf911ecf",
   "metadata": {},
   "source": [
    "### `initT`\n",
    "This function is used to create the table in which the\n",
    "- Level Number `i`\n",
    "- Low Child `LC`\n",
    "- High Child `HC`\n",
    "\n",
    "will be stored "
   ]
  },
  {
   "cell_type": "code",
   "execution_count": 9,
   "id": "399944d5",
   "metadata": {},
   "outputs": [],
   "source": [
    "    # Init the Table with 0,1 entries\n",
    "    @staticmethod\n",
    "    def initT(self):\n",
    "        self.T = 2*[3*[None]]\n",
    "        self.T[0] = [self.nVars + 1,-1,-1]\n",
    "        self.T[1] = [self.nVars + 1,-2,-2]  # Using a different dummy entry -2, to ensure correct hashing\n",
    "        self.nNodes = 2"
   ]
  },
  {
   "cell_type": "markdown",
   "id": "eef16592",
   "metadata": {},
   "source": [
    "### `initH`\n",
    "This is the HashTable where different rows of the Table are concatenated `i+LC+HC` together and stored here to be compared with different upcoming entries where the hashed values are compared"
   ]
  },
  {
   "cell_type": "code",
   "execution_count": 10,
   "id": "c3f0bbee",
   "metadata": {},
   "outputs": [],
   "source": [
    "    # Init the HashTable with hashes for 0 and 1\n",
    "    @staticmethod\n",
    "    def initH(self):\n",
    "        self.H = 2 * [None]\n",
    "        self.H[0] = self.hashH(self,0)\n",
    "        self.H[1] = self.hashH(self,1)\n",
    "\n",
    "\n",
    "    # Create Hashes for 0 and 1\n",
    "    @staticmethod\n",
    "    def hashH(self,nodeNum):\n",
    "        return hash(str(self.T[nodeNum][0])+str(self.T[nodeNum][1])+str(self.T[nodeNum][2]))"
   ]
  },
  {
   "cell_type": "markdown",
   "id": "4c628b8f",
   "metadata": {},
   "source": [
    "Here we have different functions which are critical in creating our ROBDD\n",
    "### member\n",
    "This checks if the upcoming node was previously added by comparing it to the entries in HashTable\n",
    "\n",
    "### lookup \n",
    "Returns the index of the matched entry\n",
    "\n",
    "### add\n",
    "Adds a new Entry to our Table\n",
    "\n",
    "### insert \n",
    "Adds a hashed Entry corresponding to the one added in our Table\n",
    "\n",
    "### make \n",
    "Uses lookup and member to check if the entry to be added exists if not then it adds new entry using add and insert\n",
    "\n",
    "### build\n",
    "Creates the Entries to be added then sends them to make\n",
    "\n"
   ]
  },
  {
   "cell_type": "code",
   "execution_count": 11,
   "id": "79a5e7d4",
   "metadata": {},
   "outputs": [],
   "source": [
    "    # Check if an entry exists in H\n",
    "    def member(self, i, l, h):\n",
    "        if hash(str(i) + str(l) + str(h)) in self.H:\n",
    "            return True\n",
    "        else:\n",
    "            return False\n",
    "\n",
    "\n",
    "    # Return the index of item with a given (i,l,h) from H\n",
    "    def lookup(self,i,l,h):\n",
    "        return self.H.index(hash(str(i) + str(l) + str(h)))\n",
    "\n",
    "\n",
    "    # Add an entry to the table T, with values(i,l,h)\n",
    "    def add(self,i,l,h):\n",
    "        self.T.append([i,l,h])\n",
    "        self.nNodes = self.nNodes + 1\n",
    "        return self.nNodes - 1\n",
    "\n",
    "\n",
    "    # Add an entry to H, with (i,l,h)\n",
    "    def insert(self,i,l,h):\n",
    "        self.H.append(hash(str(i) + str(l) + str(h)))\n",
    "\n",
    "\n",
    "    # Add an entry to the T table.\n",
    "    def make(self,i,l,h):\n",
    "        if l == h:\n",
    "            return l\n",
    "        elif self.member(i,l,h):\n",
    "            return self.lookup(i,l,h)\n",
    "        else:\n",
    "            u = self.add(i,l,h)\n",
    "            self.insert(i,l,h)\n",
    "            return u\n",
    "\n",
    "\n",
    "    # Create the Table and the Inverse Hash Table.\n",
    "    def build(self,i=0):\n",
    "        if i>=self.nVars:\n",
    "            return self.my_eva()\n",
    "        else:\n",
    "            self.x[i] = 0\n",
    "            l = self.build(i+1)\n",
    "            self.x[i] = 1\n",
    "            h = self.build(i+1)\n",
    "            return self.make(i,l,h)"
   ]
  },
  {
   "cell_type": "markdown",
   "id": "1b1f0795",
   "metadata": {},
   "source": [
    "### my_eva\n",
    "iterates over the number of values assigning corresponding values for the variables in `Vardict`  \n",
    "eg. `ABC==>000`, when we evaluate using `eval` we want it to substitute `A=0 B=0 C=0`"
   ]
  },
  {
   "cell_type": "code",
   "execution_count": 22,
   "id": "f6519b1a",
   "metadata": {},
   "outputs": [],
   "source": [
    "     def my_eva(self):\n",
    "        q=0\n",
    "        for i in self.Var:\n",
    "        \n",
    "            self.Vardict[i]=self.x[q]\n",
    "            q+=1\n",
    "            \n",
    "        if(eval(self.eq,self.Vardict) == True):\n",
    "            return 1\n",
    "        \n",
    "        elif (eval(self.eq,self.Vardict) == False):\n",
    "            return 0\n",
    "        \n",
    "        else: return eval(self.eq,self.Vardict)"
   ]
  },
  {
   "cell_type": "markdown",
   "id": "42dfca2a",
   "metadata": {},
   "source": [
    "### Parser \n",
    "The parser here has 2 functionalities \n",
    "- Change unknown operators to python for their corresponding operators in python libraries\n",
    "- Extracts the number of different variables and appends them to the array `Var`"
   ]
  },
  {
   "cell_type": "code",
   "execution_count": 13,
   "id": "0fa0d1e4",
   "metadata": {},
   "outputs": [],
   "source": [
    "     def parser(self, eq, Var, switch):\n",
    "        for i in eq:\n",
    "            if((i >= 'a') and (i <= 'z')):\n",
    "                if(i in Var):\n",
    "                    continue\n",
    "                else: Var.append(i)\n",
    "        if(switch == 0):\n",
    "            eq = eq.replace(\"&\", \" and \").replace(\"+\", \" or \").replace(\"!\", \" not \")\n",
    "            self.eq = eq\n",
    "            self.Var = Var\n",
    "        else: \n",
    "            self.u = eq\n",
    "            self.newu = Var"
   ]
  },
  {
   "cell_type": "markdown",
   "id": "11c6335d",
   "metadata": {},
   "source": [
    "### arrange\n",
    "Arranges the values appended to Var ascendingly  \n",
    "eg. input is `B&C+A` then `Var=[A,B,C]`"
   ]
  },
  {
   "cell_type": "code",
   "execution_count": 14,
   "id": "151c0bd7",
   "metadata": {},
   "outputs": [],
   "source": [
    "    @staticmethod\n",
    "    def arrange(self):\n",
    "        i = 0\n",
    "        while i < (len(self.Var)-1):\n",
    "            if(self.Var[i]>self.Var[i+1]):\n",
    "                temp=self.Var[i]\n",
    "                self.Var[i]=self.Var[i+1]\n",
    "                self.Var[i+1]=temp\n",
    "            i = i + 1\n",
    "        self.nVars = len(self.Var)"
   ]
  },
  {
   "cell_type": "markdown",
   "id": "2dca5603",
   "metadata": {},
   "source": [
    "### rename\n",
    "At first Variables where treated as numbers where `A=0` `B=1` but for the values to be displayed in their respected character form the array needed to be changed taken into consideration that 2 different nodes of the same variable meant that there were 2 different instances of the same variable so it needed to have different naming like `C1 C2`"
   ]
  },
  {
   "cell_type": "code",
   "execution_count": 16,
   "id": "3464f11e",
   "metadata": {},
   "outputs": [],
   "source": [
    "    @staticmethod\n",
    "    def rename(self):\n",
    "        t_mod = self.T\n",
    "        for i in range(len(self.u)):\n",
    "            self.u[i] = i    \n",
    "        t_mod = np.array(self.T)\n",
    "        t_mod = np.append(self.u, t_mod, axis = 1)\n",
    "\n",
    "        t_mod = t_mod.tolist()\n",
    "\n",
    "        duplicate = len(self.Var)*[0] #len = 6\n",
    "        for i in range(2,len(t_mod)):\n",
    "            duplicate[t_mod[i][1]] += 1\n",
    "\n",
    "\n",
    "        index = len(t_mod)*[0] #len = 6\n",
    "\n",
    "        for i in range(0,len(self.Var)):\n",
    "            for k in range(1, duplicate[i] + 1):\n",
    "                for j in range(0, len(t_mod)):\n",
    "                    if (i == t_mod[j][1] and index[j] == 0):\n",
    "                        if(duplicate[i] > 1):\n",
    "                            t_mod[j][0] = ''+str(self.Var[i])+''+str(k)+''\n",
    "                            index[j] = 1\n",
    "                            break\n",
    "                        else:\n",
    "                            t_mod[j][0] = self.Var[i]\n",
    "                            index[j] = 1\n",
    "                            break\n",
    "\n",
    "        for i in range(2,len(t_mod[0])):\n",
    "            for k in range(len(t_mod)):\n",
    "                for j in range(len(t_mod)):\n",
    "                    if( k == t_mod[j][i]):\n",
    "                        t_mod[j][i] = t_mod[k][0]\n",
    "\n",
    "        self.u = np.array(t_mod)[:,0].tolist()\n",
    "        t_mod = np.array(t_mod)[:,1:4].tolist()\n",
    "        self.T = t_mod"
   ]
  },
  {
   "cell_type": "markdown",
   "id": "02315a36",
   "metadata": {},
   "source": [
    "### noding \n",
    "We needed to make nodes of the variables and their connection to their respective low and high child to be mapped in a diagram"
   ]
  },
  {
   "cell_type": "code",
   "execution_count": 17,
   "id": "1453c82e",
   "metadata": {},
   "outputs": [],
   "source": [
    "    def noding(self, col, i):\n",
    "        if(i==len(self.u)):\n",
    "            return\n",
    "        elif(i==0 or i==1):\n",
    "            self.newu[i]=Node(self.newu[i])\n",
    "            self.newu[i].lc=None\n",
    "            self.newu[i].rc=None\n",
    "            return self.noding(col, i+1)\n",
    "        else:\n",
    "            self.newu[i]=Node(self.newu[i])\n",
    "            self.newu[i].lc = self.newu[self.u.index(self.T[i][col-1])]\n",
    "            self.newu[i].rc = self.newu[self.u.index(self.T[i][col])]\n",
    "            return self.noding(col, i+1)"
   ]
  },
  {
   "cell_type": "markdown",
   "id": "455c65c6",
   "metadata": {},
   "source": [
    "### create_graph"
   ]
  },
  {
   "cell_type": "code",
   "execution_count": 18,
   "id": "875bc04c",
   "metadata": {},
   "outputs": [],
   "source": [
    "    def create_graph(self, node, graph, visited):\n",
    "        graph.node(node.value)\n",
    "        if node.lc is not None:\n",
    "            if (node.value + node.lc.value) not in visited:\n",
    "                graph.edge(node.value, node.lc.value, label='0',style='dotted')\n",
    "                visited.add(node.value + node.lc.value)\n",
    "            self.create_graph(node.lc, graph,visited)\n",
    "        if node.rc is not None:\n",
    "            if (node.value + node.rc.value) not in visited:\n",
    "                graph.edge(node.value, node.rc.value, label='1')\n",
    "                visited.add(node.value + node.rc.value)\n",
    "            self.create_graph(node.rc, graph,visited)"
   ]
  },
  {
   "cell_type": "markdown",
   "id": "6defdf7f",
   "metadata": {},
   "source": [
    "### satisfiability\n",
    "This function incorporates a computational algorithm that systematically explores the entire domain of possible binary input combinations for a given boolean function, rigorously evaluating the output of each combination in accordance with the truth table, and meticulously counting the total number of instances in which the function's output evaluates to true. "
   ]
  },
  {
   "cell_type": "code",
   "execution_count": 19,
   "id": "72273428",
   "metadata": {},
   "outputs": [],
   "source": [
    "    def satisfiability(self):\n",
    "        c=0\n",
    "        num_combinations = 2 ** len(self.Var)\n",
    "        for i in range(num_combinations):\n",
    "            values_sat = {}\n",
    "\n",
    "            for j, variable in enumerate(self.Var):\n",
    "                truth_value = bool(i & (1 << j))\n",
    "                #values_sat[variable] = truth_value\n",
    "                values_sat={variable : truth_value}\n",
    "            if eval(self.eq, values_sat):\n",
    "                c+=1\n",
    "                if(c==1):\n",
    "                    print(f'Values for which expression is satisfied: {values_sat}')\n",
    "                #break\n",
    "        if(c==0):\n",
    "            print(\"Expression is not satisfiable\")\n",
    "        print(f'There are {c} variations that satisfy the equation')"
   ]
  }
 ],
 "metadata": {
  "kernelspec": {
   "display_name": "Python 3 (ipykernel)",
   "language": "python",
   "name": "python3"
  },
  "language_info": {
   "codemirror_mode": {
    "name": "ipython",
    "version": 3
   },
   "file_extension": ".py",
   "mimetype": "text/x-python",
   "name": "python",
   "nbconvert_exporter": "python",
   "pygments_lexer": "ipython3",
   "version": "3.11.3"
  }
 },
 "nbformat": 4,
 "nbformat_minor": 5
}
